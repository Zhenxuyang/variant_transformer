{
 "cells": [
  {
   "cell_type": "markdown",
   "metadata": {},
   "source": [
    "读取clinvar数据"
   ]
  },
  {
   "cell_type": "code",
   "execution_count": null,
   "metadata": {},
   "outputs": [],
   "source": [
    "import pandas as pd\n",
    "\n",
    "file_path = r'D:\\data\\clinvar\\variant_summary.txt\\variant_summary.txt'\n",
    "df = pd.read_csv(file_path, delimiter='\\t')"
   ]
  },
  {
   "cell_type": "code",
   "execution_count": null,
   "metadata": {},
   "outputs": [],
   "source": [
    "pathogenicity_levels = ['Benign', 'Benign/Likely benign', 'Likely benign', 'Likely pathogenic', 'Pathogenic']\n",
    "variants_by_pathogenicity = []\n",
    "for patho in pathogenicity_levels:\n",
    "    variants_by_pathogenicity.append(df['ClinicalSignificance'].value_counts()[patho])\n",
    "variants_by_pathogenicity"
   ]
  },
  {
   "cell_type": "code",
   "execution_count": null,
   "metadata": {},
   "outputs": [],
   "source": [
    "chrs = [str(i) for i in range(1, 23)]\n",
    "variants_chr_counts = df['Chromosome'].value_counts()\n",
    "chrs.extend(['X', 'Y', 'MT'])\n",
    "variants_by_chr = []\n",
    "for chr in chrs:\n",
    "    print(chr)\n",
    "    variants_by_chr.append(variants_chr_counts[chr])\n",
    "variants_by_chr"
   ]
  },
  {
   "cell_type": "code",
   "execution_count": null,
   "metadata": {},
   "outputs": [],
   "source": [
    "import matplotlib.pyplot as plt\n",
    "\n",
    "plt.figure(figsize=(20, 3))\n",
    "plt.subplot(121)\n",
    "plt.bar(pathogenicity_levels, variants_by_pathogenicity)\n",
    "plt.subplot(122)\n",
    "plt.bar(chrs, variants_by_chr)\n",
    "plt.savefig('../img/data_desc/raw_data_description.png')\n",
    "plt.show()"
   ]
  },
  {
   "cell_type": "code",
   "execution_count": null,
   "metadata": {},
   "outputs": [],
   "source": [
    "df['Type'].value_counts()"
   ]
  },
  {
   "cell_type": "code",
   "execution_count": null,
   "metadata": {},
   "outputs": [],
   "source": [
    "import pandas as pd\n",
    "\n",
    "file_path = r'D:\\data\\clinvar\\variant_summary.txt\\variant_summary.txt'\n",
    "df = pd.read_csv(file_path, delimiter='\\t')\n",
    "df = df[df['Type']=='single nucleotide variant']\n",
    "df = df[(df['ClinicalSignificance'] == 'Pathogenic') | (df['ClinicalSignificance'] == 'Benign')]\n",
    "df = df[df['Assembly'] == 'GRCh38']\n",
    "df = df[df['Chromosome']!='MT']\n",
    "df['label'] = -1\n",
    "df['label'][df['ClinicalSignificance'] == 'Pathogenic'] = 1\n",
    "df['label'][df['ClinicalSignificance'] != 'Pathogenic'] = 0\n",
    "df = df[df['ReferenceAlleleVCF'] != 'na']\n",
    "df.to_csv('../data/variants.csv', index=False)"
   ]
  },
  {
   "cell_type": "markdown",
   "metadata": {},
   "source": [
    "获取突变位点周围序列"
   ]
  },
  {
   "cell_type": "code",
   "execution_count": null,
   "metadata": {},
   "outputs": [],
   "source": [
    "import pandas as pd\n",
    "\n",
    "# 取突变位点周围50bp的内容\n",
    "surrounding_lens = [10000]\n",
    "df = pd.read_csv('../data/variants.csv')\n",
    "for chr, subset in df.groupby('Chromosome'):\n",
    "    print(chr)\n",
    "    with open(r'../data/ucsc/hg38/chr{}.txt'.format(chr)) as f:\n",
    "        seq = f.readline()\n",
    "        for index, variant in subset.iterrows():\n",
    "            point_index = int(variant['PositionVCF'])\n",
    "            # point_index = seq[point_index-1]\n",
    "            ref = variant['ReferenceAlleleVCF']\n",
    "            alt = variant['AlternateAlleleVCF']\n",
    "            for surrounding_len in surrounding_lens:\n",
    "                left = seq[point_index-1-surrounding_len:point_index-1]\n",
    "                right = seq[point_index: point_index+surrounding_len]\n",
    "                # print(point_index, ref, alt, seq[point_index-1], left, right)\n",
    "                if len(left)<surrounding_len:\n",
    "                    left = 'N' *(surrounding_len-len(left)) + left\n",
    "                if len(right)<surrounding_len:\n",
    "                    right = right + 'N'*(surrounding_len-len(right))\n",
    "                t1 = ''.join([left, ref, right])\n",
    "                t2 = ''.join([left, alt, right])\n",
    "                ref_col = 'seq_{}_ref'.format(surrounding_len*2+1)\n",
    "                alt_col = 'seq_{}_alt'.format(surrounding_len)\n",
    "                df.loc[index, ref_col] = t1.upper()\n",
    "                df.loc[index, alt_col] = t1.upper()"
   ]
  },
  {
   "cell_type": "code",
   "execution_count": 1,
   "metadata": {},
   "outputs": [
    {
     "name": "stdout",
     "output_type": "stream",
     "text": [
      "INFO: Pandarallel will run on 48 workers.\n",
      "INFO: Pandarallel will use Memory file system to transfer data between the main process and workers.\n",
      "seq loaded\n"
     ]
    }
   ],
   "source": [
    "import pandas as pd\n",
    "from pandarallel import pandarallel\n",
    "\n",
    "pandarallel.initialize()\n",
    "\n",
    "chrs = [str(i) for i in range(1, 23)]\n",
    "chrs.extend(['X', 'Y'])\n",
    "chr_seqs = {}\n",
    "for chr in chrs:\n",
    "    with open(r'../data/ucsc/hg38/chr{}.txt'.format(chr)) as f:\n",
    "        seq = f.readline()\n",
    "        chr_seqs[chr] = seq \n",
    "\n",
    "print(\"seq loaded\")\n",
    "\n",
    "def get_seq(row, seq_len):\n",
    "    chr = row['Chromosome']\n",
    "    # with open(r'../data/ucsc/hg38/chr{}.txt'.format(chr)) as f:\n",
    "    #     seq = f.readline()\n",
    "    seq = chr_seqs[chr]\n",
    "    point_index = int(row['PositionVCF'])\n",
    "    ref = row['ReferenceAlleleVCF']\n",
    "    alt = row['AlternateAlleleVCF']\n",
    "    left = seq[point_index-1-seq_len:point_index-1]\n",
    "    right = seq[point_index: point_index+seq_len]\n",
    "    # print(point_index, ref, alt, seq[point_index-1], left, right)\n",
    "    if len(left)<seq_len:\n",
    "        left = 'N' *(seq_len-len(left)) + left\n",
    "    if len(right)<seq_len:\n",
    "        right = right + 'N'*(seq_len-len(right))\n",
    "    t1 = ''.join([left, ref, right])\n",
    "    t2 = ''.join([left, alt, right])\n",
    "    return t1.upper(), t2.upper()\n",
    "    \n",
    "df = pd.read_csv('../data/variants.csv')\n",
    "df[['seq_20001_ref', 'seq_20001_alt']] = df.parallel_apply(get_seq, result_type='expand', axis=1, seq_len=10000)"
   ]
  },
  {
   "cell_type": "code",
   "execution_count": null,
   "metadata": {},
   "outputs": [],
   "source": [
    "df[['label', 'seq_20001_ref', 'seq_20001_alt']].to_csv('variants_20001.csv', index=True)"
   ]
  },
  {
   "cell_type": "code",
   "execution_count": null,
   "metadata": {},
   "outputs": [],
   "source": [
    "len(df.iloc[0,]['seq_20001_ref_encoded'])"
   ]
  },
  {
   "cell_type": "code",
   "execution_count": null,
   "metadata": {},
   "outputs": [],
   "source": [
    "df.head()"
   ]
  },
  {
   "cell_type": "code",
   "execution_count": 2,
   "metadata": {},
   "outputs": [],
   "source": [
    "df = df.rename(columns={\"ReferenceAlleleVCF\": \"Ref\", \"AlternateAlleleVCF\": \"Alt\", 'seq_20001_ref': 'seq', 'seq_20001_ref_encoded': 'seq_onehot'})"
   ]
  },
  {
   "cell_type": "code",
   "execution_count": 5,
   "metadata": {},
   "outputs": [],
   "source": [
    "df_selected = df.loc[:,['label', 'Ref', 'Alt', 'seq']]\n",
    "# df_selected = df[['label', 'Ref']]"
   ]
  },
  {
   "cell_type": "code",
   "execution_count": 7,
   "metadata": {},
   "outputs": [
    {
     "data": {
      "text/html": [
       "<div>\n",
       "<style scoped>\n",
       "    .dataframe tbody tr th:only-of-type {\n",
       "        vertical-align: middle;\n",
       "    }\n",
       "\n",
       "    .dataframe tbody tr th {\n",
       "        vertical-align: top;\n",
       "    }\n",
       "\n",
       "    .dataframe thead th {\n",
       "        text-align: right;\n",
       "    }\n",
       "</style>\n",
       "<table border=\"1\" class=\"dataframe\">\n",
       "  <thead>\n",
       "    <tr style=\"text-align: right;\">\n",
       "      <th></th>\n",
       "      <th>label</th>\n",
       "      <th>Ref</th>\n",
       "      <th>Alt</th>\n",
       "      <th>seq</th>\n",
       "    </tr>\n",
       "  </thead>\n",
       "  <tbody>\n",
       "    <tr>\n",
       "      <th>0</th>\n",
       "      <td>1</td>\n",
       "      <td>C</td>\n",
       "      <td>T</td>\n",
       "      <td>AGAATCTGCACCAGGGACTCCTGTAGGGCTTGCTTTACTGTGGAAG...</td>\n",
       "    </tr>\n",
       "    <tr>\n",
       "      <th>1</th>\n",
       "      <td>1</td>\n",
       "      <td>A</td>\n",
       "      <td>G</td>\n",
       "      <td>TAAATTGATTTTAGAGAAGGCAGGTCTCTCACCGAAGGAGCCGCAG...</td>\n",
       "    </tr>\n",
       "    <tr>\n",
       "      <th>2</th>\n",
       "      <td>1</td>\n",
       "      <td>G</td>\n",
       "      <td>C</td>\n",
       "      <td>CCATGTTTGAAAAATGGTTCCGAGTGCTAAGAAGATTTAAAACTCT...</td>\n",
       "    </tr>\n",
       "    <tr>\n",
       "      <th>3</th>\n",
       "      <td>0</td>\n",
       "      <td>G</td>\n",
       "      <td>A</td>\n",
       "      <td>TTGCATCTACGTAGCTCTCACCCCATTTCTTTCCACAACACACATT...</td>\n",
       "    </tr>\n",
       "    <tr>\n",
       "      <th>4</th>\n",
       "      <td>1</td>\n",
       "      <td>A</td>\n",
       "      <td>C</td>\n",
       "      <td>CTGCCTCCAAAGAAAGAAAAAGTAAAAGCTAAAAGGCAGAAATGAA...</td>\n",
       "    </tr>\n",
       "  </tbody>\n",
       "</table>\n",
       "</div>"
      ],
      "text/plain": [
       "   label Ref Alt                                                seq\n",
       "0      1   C   T  AGAATCTGCACCAGGGACTCCTGTAGGGCTTGCTTTACTGTGGAAG...\n",
       "1      1   A   G  TAAATTGATTTTAGAGAAGGCAGGTCTCTCACCGAAGGAGCCGCAG...\n",
       "2      1   G   C  CCATGTTTGAAAAATGGTTCCGAGTGCTAAGAAGATTTAAAACTCT...\n",
       "3      0   G   A  TTGCATCTACGTAGCTCTCACCCCATTTCTTTCCACAACACACATT...\n",
       "4      1   A   C  CTGCCTCCAAAGAAAGAAAAAGTAAAAGCTAAAAGGCAGAAATGAA..."
      ]
     },
     "execution_count": 7,
     "metadata": {},
     "output_type": "execute_result"
    }
   ],
   "source": [
    "df_selected.head()"
   ]
  },
  {
   "cell_type": "code",
   "execution_count": 8,
   "metadata": {},
   "outputs": [],
   "source": [
    "df_selected.to_csv('variants_onehot.csv', index=False)"
   ]
  },
  {
   "cell_type": "code",
   "execution_count": 4,
   "metadata": {},
   "outputs": [
    {
     "ename": "KeyboardInterrupt",
     "evalue": "",
     "output_type": "error",
     "traceback": [
      "\u001b[0;31m---------------------------------------------------------------------------\u001b[0m",
      "\u001b[0;31mKeyboardInterrupt\u001b[0m                         Traceback (most recent call last)",
      "\u001b[0;32m/tmp/ipykernel_2812760/2144764956.py\u001b[0m in \u001b[0;36m<module>\u001b[0;34m\u001b[0m\n\u001b[1;32m     14\u001b[0m         \u001b[0;32mreturn\u001b[0m \u001b[0mlist\u001b[0m\u001b[0;34m(\u001b[0m\u001b[0mmap\u001b[0m\u001b[0;34m(\u001b[0m\u001b[0mencode\u001b[0m\u001b[0;34m,\u001b[0m \u001b[0mlist\u001b[0m\u001b[0;34m(\u001b[0m\u001b[0mseq\u001b[0m\u001b[0;34m)\u001b[0m\u001b[0;34m)\u001b[0m\u001b[0;34m)\u001b[0m\u001b[0;34m\u001b[0m\u001b[0;34m\u001b[0m\u001b[0m\n\u001b[1;32m     15\u001b[0m \u001b[0;34m\u001b[0m\u001b[0m\n\u001b[0;32m---> 16\u001b[0;31m \u001b[0mdf\u001b[0m\u001b[0;34m[\u001b[0m\u001b[0;34m'seq_onehot'\u001b[0m\u001b[0;34m]\u001b[0m \u001b[0;34m=\u001b[0m \u001b[0mdf\u001b[0m\u001b[0;34m[\u001b[0m\u001b[0;34m'seq'\u001b[0m\u001b[0;34m]\u001b[0m\u001b[0;34m.\u001b[0m\u001b[0mparallel_apply\u001b[0m\u001b[0;34m(\u001b[0m\u001b[0membedding\u001b[0m\u001b[0;34m)\u001b[0m\u001b[0;34m\u001b[0m\u001b[0;34m\u001b[0m\u001b[0m\n\u001b[0m\u001b[1;32m     17\u001b[0m \u001b[0;31m# df['seq_20001_alt_encoded'] = df['seq_20001_alt'].parallel_apply(embedding)\u001b[0m\u001b[0;34m\u001b[0m\u001b[0;34m\u001b[0m\u001b[0m\n",
      "\u001b[0;32m~/.conda/envs/variant_transformer_classifier/lib/python3.9/site-packages/pandarallel/pandarallel.py\u001b[0m in \u001b[0;36mclosure\u001b[0;34m(data, func, *args, **kwargs)\u001b[0m\n\u001b[1;32m    451\u001b[0m             \u001b[0mpool\u001b[0m\u001b[0;34m.\u001b[0m\u001b[0mclose\u001b[0m\u001b[0;34m(\u001b[0m\u001b[0;34m)\u001b[0m\u001b[0;34m\u001b[0m\u001b[0;34m\u001b[0m\u001b[0m\n\u001b[1;32m    452\u001b[0m \u001b[0;34m\u001b[0m\u001b[0m\n\u001b[0;32m--> 453\u001b[0;31m             results = get_workers_result(\n\u001b[0m\u001b[1;32m    454\u001b[0m                 \u001b[0muse_memory_fs\u001b[0m\u001b[0;34m,\u001b[0m\u001b[0;34m\u001b[0m\u001b[0;34m\u001b[0m\u001b[0m\n\u001b[1;32m    455\u001b[0m                 \u001b[0mnb_workers\u001b[0m\u001b[0;34m,\u001b[0m\u001b[0;34m\u001b[0m\u001b[0;34m\u001b[0m\u001b[0m\n",
      "\u001b[0;32m~/.conda/envs/variant_transformer_classifier/lib/python3.9/site-packages/pandarallel/pandarallel.py\u001b[0m in \u001b[0;36mget_workers_result\u001b[0;34m(use_memory_fs, nb_workers, show_progress_bar, nb_columns, queue, chunk_lengths, input_files, output_files, map_result)\u001b[0m\n\u001b[1;32m    397\u001b[0m \u001b[0;34m\u001b[0m\u001b[0m\n\u001b[1;32m    398\u001b[0m     return (\n\u001b[0;32m--> 399\u001b[0;31m         \u001b[0;34m[\u001b[0m\u001b[0mpickle\u001b[0m\u001b[0;34m.\u001b[0m\u001b[0mload\u001b[0m\u001b[0;34m(\u001b[0m\u001b[0moutput_files\u001b[0m\u001b[0;34m)\u001b[0m \u001b[0;32mfor\u001b[0m \u001b[0moutput_files\u001b[0m \u001b[0;32min\u001b[0m \u001b[0moutput_files\u001b[0m\u001b[0;34m]\u001b[0m\u001b[0;34m\u001b[0m\u001b[0;34m\u001b[0m\u001b[0m\n\u001b[0m\u001b[1;32m    400\u001b[0m         \u001b[0;32mif\u001b[0m \u001b[0muse_memory_fs\u001b[0m\u001b[0;34m\u001b[0m\u001b[0;34m\u001b[0m\u001b[0m\n\u001b[1;32m    401\u001b[0m         \u001b[0;32melse\u001b[0m \u001b[0mresults\u001b[0m\u001b[0;34m\u001b[0m\u001b[0;34m\u001b[0m\u001b[0m\n",
      "\u001b[0;32m~/.conda/envs/variant_transformer_classifier/lib/python3.9/site-packages/pandarallel/pandarallel.py\u001b[0m in \u001b[0;36m<listcomp>\u001b[0;34m(.0)\u001b[0m\n\u001b[1;32m    397\u001b[0m \u001b[0;34m\u001b[0m\u001b[0m\n\u001b[1;32m    398\u001b[0m     return (\n\u001b[0;32m--> 399\u001b[0;31m         \u001b[0;34m[\u001b[0m\u001b[0mpickle\u001b[0m\u001b[0;34m.\u001b[0m\u001b[0mload\u001b[0m\u001b[0;34m(\u001b[0m\u001b[0moutput_files\u001b[0m\u001b[0;34m)\u001b[0m \u001b[0;32mfor\u001b[0m \u001b[0moutput_files\u001b[0m \u001b[0;32min\u001b[0m \u001b[0moutput_files\u001b[0m\u001b[0;34m]\u001b[0m\u001b[0;34m\u001b[0m\u001b[0;34m\u001b[0m\u001b[0m\n\u001b[0m\u001b[1;32m    400\u001b[0m         \u001b[0;32mif\u001b[0m \u001b[0muse_memory_fs\u001b[0m\u001b[0;34m\u001b[0m\u001b[0;34m\u001b[0m\u001b[0m\n\u001b[1;32m    401\u001b[0m         \u001b[0;32melse\u001b[0m \u001b[0mresults\u001b[0m\u001b[0;34m\u001b[0m\u001b[0;34m\u001b[0m\u001b[0m\n",
      "\u001b[0;32m~/.conda/envs/variant_transformer_classifier/lib/python3.9/tempfile.py\u001b[0m in \u001b[0;36mfunc_wrapper\u001b[0;34m(*args, **kwargs)\u001b[0m\n\u001b[1;32m    470\u001b[0m         \u001b[0;32mif\u001b[0m \u001b[0mhasattr\u001b[0m\u001b[0;34m(\u001b[0m\u001b[0ma\u001b[0m\u001b[0;34m,\u001b[0m \u001b[0;34m'__call__'\u001b[0m\u001b[0;34m)\u001b[0m\u001b[0;34m:\u001b[0m\u001b[0;34m\u001b[0m\u001b[0;34m\u001b[0m\u001b[0m\n\u001b[1;32m    471\u001b[0m             \u001b[0mfunc\u001b[0m \u001b[0;34m=\u001b[0m \u001b[0ma\u001b[0m\u001b[0;34m\u001b[0m\u001b[0;34m\u001b[0m\u001b[0m\n\u001b[0;32m--> 472\u001b[0;31m             \u001b[0;34m@\u001b[0m\u001b[0m_functools\u001b[0m\u001b[0;34m.\u001b[0m\u001b[0mwraps\u001b[0m\u001b[0;34m(\u001b[0m\u001b[0mfunc\u001b[0m\u001b[0;34m)\u001b[0m\u001b[0;34m\u001b[0m\u001b[0;34m\u001b[0m\u001b[0m\n\u001b[0m\u001b[1;32m    473\u001b[0m             \u001b[0;32mdef\u001b[0m \u001b[0mfunc_wrapper\u001b[0m\u001b[0;34m(\u001b[0m\u001b[0;34m*\u001b[0m\u001b[0margs\u001b[0m\u001b[0;34m,\u001b[0m \u001b[0;34m**\u001b[0m\u001b[0mkwargs\u001b[0m\u001b[0;34m)\u001b[0m\u001b[0;34m:\u001b[0m\u001b[0;34m\u001b[0m\u001b[0;34m\u001b[0m\u001b[0m\n\u001b[1;32m    474\u001b[0m                 \u001b[0;32mreturn\u001b[0m \u001b[0mfunc\u001b[0m\u001b[0;34m(\u001b[0m\u001b[0;34m*\u001b[0m\u001b[0margs\u001b[0m\u001b[0;34m,\u001b[0m \u001b[0;34m**\u001b[0m\u001b[0mkwargs\u001b[0m\u001b[0;34m)\u001b[0m\u001b[0;34m\u001b[0m\u001b[0;34m\u001b[0m\u001b[0m\n",
      "\u001b[0;31mKeyboardInterrupt\u001b[0m: "
     ]
    }
   ],
   "source": [
    "def embedding(seq):\n",
    "        dict_ = {\n",
    "            'A': [1, 0, 0, 0],\n",
    "            'T': [0, 1, 0, 0],\n",
    "            'C': [0, 0, 1, 0],\n",
    "            'G': [0, 0, 0, 1],\n",
    "            'N': [0, 0, 0, 0]\n",
    "        }\n",
    "        def encode(n):\n",
    "            if n in dict_.keys():\n",
    "                return dict_[n]\n",
    "            else:\n",
    "                return dict_['N']\n",
    "        return list(map(encode, list(seq)))\n",
    "\n",
    "df['seq_onehot'] = df['seq'].parallel_apply(embedding)\n",
    "# df['seq_20001_alt_encoded'] = df['seq_20001_alt'].parallel_apply(embedding)"
   ]
  },
  {
   "cell_type": "code",
   "execution_count": null,
   "metadata": {},
   "outputs": [],
   "source": [
    "df['seq_20001_alt_encoded'] = df['seq_20001_alt'].parallel_apply(embedding)"
   ]
  },
  {
   "cell_type": "code",
   "execution_count": null,
   "metadata": {},
   "outputs": [],
   "source": [
    "df['seq_20001_ref_encoded'].to_csv('test.csv', index=False)"
   ]
  },
  {
   "cell_type": "code",
   "execution_count": null,
   "metadata": {},
   "outputs": [],
   "source": [
    "df.to_csv('../data/variants_with_seq.csv', index=False)"
   ]
  },
  {
   "cell_type": "code",
   "execution_count": null,
   "metadata": {},
   "outputs": [],
   "source": [
    "import pandas as pd\n",
    "\n",
    "df = pd.read_csv(\"../data/variants_with_seq.csv\")\n",
    "df.columns"
   ]
  },
  {
   "cell_type": "code",
   "execution_count": null,
   "metadata": {},
   "outputs": [],
   "source": [
    "df_model = df[['Chromosome', 'ReferenceAlleleVCF', 'AlternateAlleleVCF', 'Start', 'Stop','label',\n",
    "       'seq_50_ref', 'seq_50_alt', 'seq_100_ref', 'seq_100_alt', 'seq_300_ref',\n",
    "       'seq_300_alt', 'seq_500_ref', 'seq_500_alt', 'seq_1000_ref',\n",
    "       'seq_1000_alt']]"
   ]
  },
  {
   "cell_type": "code",
   "execution_count": null,
   "metadata": {},
   "outputs": [],
   "source": [
    "df_model.to_csv('../data/variants_model.csv', index=False)"
   ]
  },
  {
   "cell_type": "code",
   "execution_count": null,
   "metadata": {},
   "outputs": [],
   "source": [
    "df = df[df['ReferenceAlleleVCF'] != 'na']"
   ]
  },
  {
   "cell_type": "code",
   "execution_count": null,
   "metadata": {},
   "outputs": [],
   "source": [
    "df.to_csv('../data/variants_with_seq.csv', index=False)"
   ]
  },
  {
   "cell_type": "code",
   "execution_count": null,
   "metadata": {},
   "outputs": [],
   "source": [
    "import pandas as pd\n",
    "\n",
    "df = pd.read_csv('../data/variants_with_seq.csv')"
   ]
  },
  {
   "cell_type": "code",
   "execution_count": null,
   "metadata": {},
   "outputs": [],
   "source": [
    "pathogenicity_levels = ['Benign', 'Pathogenic']\n",
    "variants_by_pathogenicity = []\n",
    "for patho in pathogenicity_levels:\n",
    "    print(patho)\n",
    "    variants_by_pathogenicity.append(df['ClinicalSignificance'].value_counts()[patho])\n",
    "variants_by_pathogenicity"
   ]
  },
  {
   "cell_type": "code",
   "execution_count": null,
   "metadata": {},
   "outputs": [],
   "source": [
    "chrs = [str(i) for i in range(1, 23)]\n",
    "variants_chr_counts = df['Chromosome'].value_counts()\n",
    "chrs.extend(['X', 'Y'])\n",
    "variants_by_chr = []\n",
    "for chr in chrs:\n",
    "    variants_by_chr.append(variants_chr_counts[chr])\n",
    "variants_by_chr"
   ]
  },
  {
   "cell_type": "code",
   "execution_count": null,
   "metadata": {},
   "outputs": [],
   "source": [
    "df.head(1)"
   ]
  },
  {
   "cell_type": "code",
   "execution_count": 9,
   "metadata": {},
   "outputs": [],
   "source": [
    "df = df_selected"
   ]
  },
  {
   "cell_type": "code",
   "execution_count": 10,
   "metadata": {},
   "outputs": [],
   "source": [
    "df_positive = df[df['label'] == 1]\n",
    "df_negative = df[df['label'] == 0]"
   ]
  },
  {
   "cell_type": "code",
   "execution_count": 11,
   "metadata": {},
   "outputs": [
    {
     "name": "stdout",
     "output_type": "stream",
     "text": [
      "(51331, 4) (155863, 4)\n"
     ]
    }
   ],
   "source": [
    "print(df_positive.shape, df_negative.shape)"
   ]
  },
  {
   "cell_type": "code",
   "execution_count": 12,
   "metadata": {},
   "outputs": [],
   "source": [
    "num_p = df_positive.shape[0]"
   ]
  },
  {
   "cell_type": "code",
   "execution_count": 13,
   "metadata": {},
   "outputs": [],
   "source": [
    "num_n = df_negative.shape[0]"
   ]
  },
  {
   "cell_type": "code",
   "execution_count": 14,
   "metadata": {},
   "outputs": [],
   "source": [
    "train_ratio = 0.7\n",
    "valid_ration = 0.2\n",
    "test_ration = 0.1"
   ]
  },
  {
   "cell_type": "code",
   "execution_count": 15,
   "metadata": {},
   "outputs": [],
   "source": [
    "df_positive_train = df_positive.iloc[:int(num_p*train_ratio)]\n",
    "df_positive_valid = df_positive.iloc[int(num_p*train_ratio):int(num_p*0.9)]\n",
    "df_positive_test = df_positive.iloc[int(num_p*0.9):]"
   ]
  },
  {
   "cell_type": "code",
   "execution_count": 16,
   "metadata": {},
   "outputs": [
    {
     "name": "stdout",
     "output_type": "stream",
     "text": [
      "(35931, 4) (10266, 4) (5134, 4)\n"
     ]
    }
   ],
   "source": [
    "print(df_positive_train.shape, df_positive_valid.shape, df_positive_test.shape)"
   ]
  },
  {
   "cell_type": "code",
   "execution_count": 17,
   "metadata": {},
   "outputs": [],
   "source": [
    "df_negative_train = df_negative.iloc[:int(num_n*train_ratio)]\n",
    "df_negative_valid = df_negative.iloc[int(num_n*train_ratio):int(num_n*0.9)]\n",
    "df_negative_test = df_negative.iloc[int(num_n*0.9):]"
   ]
  },
  {
   "cell_type": "code",
   "execution_count": 18,
   "metadata": {},
   "outputs": [
    {
     "name": "stdout",
     "output_type": "stream",
     "text": [
      "(109104, 4) (31172, 4) (15587, 4)\n"
     ]
    }
   ],
   "source": [
    "print(df_negative_train.shape, df_negative_valid.shape, df_negative_test.shape)"
   ]
  },
  {
   "cell_type": "code",
   "execution_count": 19,
   "metadata": {},
   "outputs": [],
   "source": [
    "df_train = pd.concat([df_positive_train, df_negative_train])\n",
    "df_valid = pd.concat([df_positive_valid, df_negative_valid])\n",
    "df_test = pd.concat([df_positive_test, df_negative_test])"
   ]
  },
  {
   "cell_type": "code",
   "execution_count": 20,
   "metadata": {},
   "outputs": [
    {
     "name": "stdout",
     "output_type": "stream",
     "text": [
      "(145035, 4) (41438, 4) (20721, 4)\n"
     ]
    }
   ],
   "source": [
    "print(df_train.shape, df_valid.shape, df_test.shape)"
   ]
  },
  {
   "cell_type": "code",
   "execution_count": null,
   "metadata": {},
   "outputs": [],
   "source": [
    "df_train.to_csv('../data/train_20001_onehot.csv', index=False)\n",
    "df_valid.to_csv('../data/valid_20001_onehot.csv', index=False)\n",
    "df_test.to_csv('../data/test_20001_onehot.csv', index=False)"
   ]
  }
 ],
 "metadata": {
  "interpreter": {
   "hash": "2086ba30e1af7c12627fcdf6cbb18573b158f8bf8999ae420920dd1f548ca679"
  },
  "kernelspec": {
   "display_name": "Python 3.7.9 64-bit ('dl': virtualenv)",
   "language": "python",
   "name": "python3"
  },
  "language_info": {
   "codemirror_mode": {
    "name": "ipython",
    "version": 3
   },
   "file_extension": ".py",
   "mimetype": "text/x-python",
   "name": "python",
   "nbconvert_exporter": "python",
   "pygments_lexer": "ipython3",
   "version": "3.9.7"
  },
  "orig_nbformat": 4
 },
 "nbformat": 4,
 "nbformat_minor": 2
}
