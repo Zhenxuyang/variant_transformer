{
 "cells": [
  {
   "cell_type": "markdown",
   "metadata": {},
   "source": [
    "读取clinvar数据"
   ]
  },
  {
   "cell_type": "code",
   "execution_count": null,
   "metadata": {},
   "outputs": [],
   "source": [
    "import pandas as pd\n",
    "\n",
    "file_path = r'D:\\data\\clinvar\\variant_summary.txt\\variant_summary.txt'\n",
    "df = pd.read_csv(file_path, delimiter='\\t')"
   ]
  },
  {
   "cell_type": "code",
   "execution_count": null,
   "metadata": {},
   "outputs": [],
   "source": [
    "df.columns"
   ]
  },
  {
   "cell_type": "code",
   "execution_count": null,
   "metadata": {},
   "outputs": [],
   "source": [
    "df['ClinicalSignificance'].value_counts()[:10]"
   ]
  },
  {
   "cell_type": "code",
   "execution_count": null,
   "metadata": {},
   "outputs": [],
   "source": [
    "pathogenicity_levels = ['Benign', 'Benign/Likely benign', 'Likely benign', 'Likely pathogenic', 'Pathogenic']\n",
    "variants_by_pathogenicity = []\n",
    "for patho in pathogenicity_levels:\n",
    "    variants_by_pathogenicity.append(df['ClinicalSignificance'].value_counts()[patho])\n",
    "variants_by_pathogenicity"
   ]
  },
  {
   "cell_type": "code",
   "execution_count": null,
   "metadata": {},
   "outputs": [],
   "source": [
    "df['Chromosome'].value_counts()"
   ]
  },
  {
   "cell_type": "code",
   "execution_count": null,
   "metadata": {},
   "outputs": [],
   "source": [
    "chrs = [str(i) for i in range(1, 23)]\n",
    "variants_chr_counts = df['Chromosome'].value_counts()\n",
    "chrs.extend(['X', 'Y', 'MT'])\n",
    "variants_by_chr = []\n",
    "for chr in chrs:\n",
    "    print(chr)\n",
    "    variants_by_chr.append(variants_chr_counts[chr])\n",
    "variants_by_chr"
   ]
  },
  {
   "cell_type": "code",
   "execution_count": null,
   "metadata": {},
   "outputs": [],
   "source": [
    "import matplotlib.pyplot as plt\n",
    "\n",
    "plt.figure(figsize=(20, 3))\n",
    "plt.subplot(121)\n",
    "plt.bar(pathogenicity_levels, variants_by_pathogenicity)\n",
    "plt.subplot(122)\n",
    "plt.bar(chrs, variants_by_chr)\n",
    "plt.savefig('../img/data_desc/raw_data_description.png')\n",
    "plt.show()"
   ]
  },
  {
   "cell_type": "code",
   "execution_count": null,
   "metadata": {},
   "outputs": [],
   "source": [
    "df['Type'].value_counts()"
   ]
  },
  {
   "cell_type": "code",
   "execution_count": null,
   "metadata": {},
   "outputs": [],
   "source": [
    "import pandas as pd\n",
    "\n",
    "file_path = r'D:\\data\\clinvar\\variant_summary.txt\\variant_summary.txt'\n",
    "df = pd.read_csv(file_path, delimiter='\\t')\n",
    "df = df[df['Type']=='single nucleotide variant']\n",
    "df = df[(df['ClinicalSignificance'] == 'Pathogenic') | (df['ClinicalSignificance'] == 'Benign')]\n",
    "df = df[df['Assembly'] == 'GRCh38']\n",
    "df = df[df['Chromosome']!='MT']\n",
    "df['label'] = -1\n",
    "df['label'][df['ClinicalSignificance'] == 'Pathogenic'] = 1\n",
    "df['label'][df['ClinicalSignificance'] != 'Pathogenic'] = 0\n",
    "df = df[df['ReferenceAlleleVCF'] != 'na']\n",
    "df.to_csv('../data/variants.csv', index=False)"
   ]
  },
  {
   "cell_type": "markdown",
   "metadata": {},
   "source": [
    "获取突变位点周围序列"
   ]
  },
  {
   "cell_type": "code",
   "execution_count": null,
   "metadata": {},
   "outputs": [],
   "source": [
    "import pandas as pd\n",
    "\n",
    "# 取突变位点周围50bp的内容\n",
    "surrounding_lens = [50, 100, 300, 500, 1000]\n",
    "df = pd.read_csv('../data/variants.csv')\n",
    "for chr, subset in df.groupby('Chromosome'):\n",
    "    print(chr)\n",
    "    with open(r'../data/ucsc/hg38/chr{}.txt'.format(chr)) as f:\n",
    "        seq = f.readline()\n",
    "        for index, variant in subset.iterrows():\n",
    "            point_index = int(variant['PositionVCF'])\n",
    "            # point_index = seq[point_index-1]\n",
    "            ref = variant['ReferenceAlleleVCF']\n",
    "            alt = variant['AlternateAlleleVCF']\n",
    "            for surrounding_len in surrounding_lens:\n",
    "                left = seq[point_index-1-surrounding_len:point_index-1]\n",
    "                right = seq[point_index: point_index+surrounding_len]\n",
    "                # print(point_index, ref, alt, seq[point_index-1], left, right)\n",
    "                if len(left)<surrounding_len:\n",
    "                    left = 'N' *(surrounding_len-len(left)) + left\n",
    "                if len(right)<surrounding_len:\n",
    "                    right = right + 'N'*(surrounding_len-len(right))\n",
    "                t1 = ''.join([left, ref, right])\n",
    "                t2 = ''.join([left, alt, right])\n",
    "                ref_col = 'seq_{}_ref'.format(surrounding_len)\n",
    "                alt_col = 'seq_{}_alt'.format(surrounding_len)\n",
    "                df.loc[index, ref_col] = t1.upper()\n",
    "                df.loc[index, alt_col] = t1.upper()"
   ]
  },
  {
   "cell_type": "code",
   "execution_count": null,
   "metadata": {},
   "outputs": [],
   "source": [
    "df.to_csv('../data/variants_with_seq.csv', index=False)"
   ]
  },
  {
   "cell_type": "code",
   "execution_count": null,
   "metadata": {},
   "outputs": [],
   "source": [
    "import pandas as pd\n",
    "\n",
    "df = pd.read_csv(\"../data/variants_with_seq.csv\")\n",
    "df.columns"
   ]
  },
  {
   "cell_type": "code",
   "execution_count": null,
   "metadata": {},
   "outputs": [],
   "source": [
    "df_model = df[['Chromosome', 'ReferenceAlleleVCF', 'AlternateAlleleVCF', 'Start', 'Stop','label',\n",
    "       'seq_50_ref', 'seq_50_alt', 'seq_100_ref', 'seq_100_alt', 'seq_300_ref',\n",
    "       'seq_300_alt', 'seq_500_ref', 'seq_500_alt', 'seq_1000_ref',\n",
    "       'seq_1000_alt']]"
   ]
  },
  {
   "cell_type": "code",
   "execution_count": null,
   "metadata": {},
   "outputs": [],
   "source": [
    "df_model.to_csv('../data/variants_model.csv', index=False)"
   ]
  },
  {
   "cell_type": "code",
   "execution_count": null,
   "metadata": {},
   "outputs": [],
   "source": [
    "df = df[df['ReferenceAlleleVCF'] != 'na']"
   ]
  },
  {
   "cell_type": "code",
   "execution_count": null,
   "metadata": {},
   "outputs": [],
   "source": [
    "df.to_csv('../data/variants_with_seq.csv', index=False)"
   ]
  },
  {
   "cell_type": "code",
   "execution_count": null,
   "metadata": {},
   "outputs": [],
   "source": [
    "import pandas as pd\n",
    "\n",
    "df = pd.read_csv('../data/variants_with_seq.csv')"
   ]
  },
  {
   "cell_type": "code",
   "execution_count": null,
   "metadata": {},
   "outputs": [],
   "source": [
    "pathogenicity_levels = ['Benign', 'Pathogenic']\n",
    "variants_by_pathogenicity = []\n",
    "for patho in pathogenicity_levels:\n",
    "    print(patho)\n",
    "    variants_by_pathogenicity.append(df['ClinicalSignificance'].value_counts()[patho])\n",
    "variants_by_pathogenicity"
   ]
  },
  {
   "cell_type": "code",
   "execution_count": null,
   "metadata": {},
   "outputs": [],
   "source": [
    "chrs = [str(i) for i in range(1, 23)]\n",
    "variants_chr_counts = df['Chromosome'].value_counts()\n",
    "chrs.extend(['X', 'Y'])\n",
    "variants_by_chr = []\n",
    "for chr in chrs:\n",
    "    variants_by_chr.append(variants_chr_counts[chr])\n",
    "variants_by_chr"
   ]
  },
  {
   "cell_type": "code",
   "execution_count": null,
   "metadata": {},
   "outputs": [],
   "source": [
    "import matplotlib.pyplot as plt\n",
    "\n",
    "plt.figure(figsize=(20, 3))\n",
    "plt.subplot(121)\n",
    "plt.bar(pathogenicity_levels, variants_by_pathogenicity)\n",
    "plt.subplot(122)\n",
    "plt.bar(chrs, variants_by_chr)\n",
    "plt.savefig('../img/data_desc/fliterd_data_description.png')\n",
    "plt.show()"
   ]
  },
  {
   "cell_type": "code",
   "execution_count": null,
   "metadata": {},
   "outputs": [],
   "source": [
    "import pandas as pd\n",
    "\n",
    "df = pd.read_csv('../data/variants_model.csv')"
   ]
  },
  {
   "cell_type": "code",
   "execution_count": null,
   "metadata": {},
   "outputs": [],
   "source": [
    "df_positive = df[df['label'] == 1]\n",
    "df_negative = df[df['label'] == 0]"
   ]
  },
  {
   "cell_type": "code",
   "execution_count": null,
   "metadata": {},
   "outputs": [],
   "source": [
    "print(df_positive.shape, df_negative.shape)"
   ]
  },
  {
   "cell_type": "code",
   "execution_count": null,
   "metadata": {},
   "outputs": [],
   "source": [
    "num_p = df_positive.shape[0]"
   ]
  },
  {
   "cell_type": "code",
   "execution_count": null,
   "metadata": {},
   "outputs": [],
   "source": [
    "num_n = df_negative.shape[0]"
   ]
  },
  {
   "cell_type": "code",
   "execution_count": null,
   "metadata": {},
   "outputs": [],
   "source": [
    "train_ratio = 0.7\n",
    "valid_ration = 0.2\n",
    "test_ration = 0.1"
   ]
  },
  {
   "cell_type": "code",
   "execution_count": null,
   "metadata": {},
   "outputs": [],
   "source": [
    "df_positive_train = df_positive.iloc[:int(num_p*train_ratio)]\n",
    "df_positive_valid = df_positive.iloc[int(num_p*train_ratio):int(num_p*0.9)]\n",
    "df_positive_test = df_positive.iloc[int(num_p*0.9):]"
   ]
  },
  {
   "cell_type": "code",
   "execution_count": null,
   "metadata": {},
   "outputs": [],
   "source": [
    "print(df_positive_train.shape, df_positive_valid.shape, df_positive_test.shape)"
   ]
  },
  {
   "cell_type": "code",
   "execution_count": null,
   "metadata": {},
   "outputs": [],
   "source": [
    "df_negative_train = df_negative.iloc[:int(num_n*train_ratio)]\n",
    "df_negative_valid = df_negative.iloc[int(num_n*train_ratio):int(num_n*0.9)]\n",
    "df_negative_test = df_negative.iloc[int(num_n*0.9):]"
   ]
  },
  {
   "cell_type": "code",
   "execution_count": null,
   "metadata": {},
   "outputs": [],
   "source": [
    "print(df_negative_train.shape, df_negative_valid.shape, df_negative_test.shape)"
   ]
  },
  {
   "cell_type": "code",
   "execution_count": null,
   "metadata": {},
   "outputs": [],
   "source": [
    "df_train = pd.concat([df_positive_train, df_negative_train])\n",
    "df_valid = pd.concat([df_positive_valid, df_negative_valid])\n",
    "df_test = pd.concat([df_positive_test, df_negative_test])"
   ]
  },
  {
   "cell_type": "code",
   "execution_count": null,
   "metadata": {},
   "outputs": [],
   "source": [
    "print(df_train.shape, df_valid.shape, df_test.shape)"
   ]
  },
  {
   "cell_type": "code",
   "execution_count": null,
   "metadata": {},
   "outputs": [],
   "source": [
    "df_train.to_csv('../data/train.csv', index=False)\n",
    "df_valid.to_csv('../data/valid.csv', index=False)\n",
    "df_test.to_csv('../data/test.csv', index=False)"
   ]
  }
 ],
 "metadata": {
  "interpreter": {
   "hash": "2086ba30e1af7c12627fcdf6cbb18573b158f8bf8999ae420920dd1f548ca679"
  },
  "kernelspec": {
   "display_name": "Python 3.7.9 64-bit ('dl': virtualenv)",
   "language": "python",
   "name": "python3"
  },
  "language_info": {
   "codemirror_mode": {
    "name": "ipython",
    "version": 3
   },
   "file_extension": ".py",
   "mimetype": "text/x-python",
   "name": "python",
   "nbconvert_exporter": "python",
   "pygments_lexer": "ipython3",
   "version": "3.9.7"
  },
  "orig_nbformat": 4
 },
 "nbformat": 4,
 "nbformat_minor": 2
}
