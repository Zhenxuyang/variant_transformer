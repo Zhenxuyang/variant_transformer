{
 "cells": [
  {
   "cell_type": "markdown",
   "metadata": {},
   "source": [
    "读取clinvar数据"
   ]
  },
  {
   "cell_type": "code",
   "execution_count": 26,
   "metadata": {},
   "outputs": [
    {
     "name": "stderr",
     "output_type": "stream",
     "text": [
      "E:\\Envs\\variant_transformer\\lib\\site-packages\\IPython\\core\\interactiveshell.py:3457: DtypeWarning: Columns (18) have mixed types.Specify dtype option on import or set low_memory=False.\n",
      "  exec(code_obj, self.user_global_ns, self.user_ns)\n"
     ]
    }
   ],
   "source": [
    "import pandas as pd\n",
    "\n",
    "file_path = r'D:\\data\\clinvar\\variant_summary.txt\\variant_summary.txt'\n",
    "df = pd.read_csv(file_path, delimiter='\\t')"
   ]
  },
  {
   "cell_type": "code",
   "execution_count": null,
   "metadata": {},
   "outputs": [],
   "source": [
    "df.columns"
   ]
  },
  {
   "cell_type": "code",
   "execution_count": null,
   "metadata": {},
   "outputs": [],
   "source": [
    "df['ClinicalSignificance'].value_counts()[:10]"
   ]
  },
  {
   "cell_type": "code",
   "execution_count": 27,
   "metadata": {},
   "outputs": [
    {
     "name": "stdout",
     "output_type": "stream",
     "text": [
      "Benign\n",
      "Benign/Likely benign\n",
      "Likely benign\n",
      "Likely pathogenic\n",
      "Pathogenic\n"
     ]
    },
    {
     "data": {
      "text/plain": [
       "[379155, 51860, 548257, 95178, 217073]"
      ]
     },
     "execution_count": 27,
     "metadata": {},
     "output_type": "execute_result"
    }
   ],
   "source": [
    "pathogenicity_levels = ['Benign', 'Benign/Likely benign', 'Likely benign', 'Likely pathogenic', 'Pathogenic']\n",
    "variants_by_pathogenicity = []\n",
    "for patho in pathogenicity_levels:\n",
    "    print(patho)\n",
    "    variants_by_pathogenicity.append(df['ClinicalSignificance'].value_counts()[patho])\n",
    "variants_by_pathogenicity"
   ]
  },
  {
   "cell_type": "code",
   "execution_count": null,
   "metadata": {},
   "outputs": [],
   "source": [
    "df['Chromosome'].value_counts()"
   ]
  },
  {
   "cell_type": "code",
   "execution_count": 28,
   "metadata": {},
   "outputs": [
    {
     "name": "stdout",
     "output_type": "stream",
     "text": [
      "1\n",
      "2\n",
      "3\n",
      "4\n",
      "5\n",
      "6\n",
      "7\n",
      "8\n",
      "9\n",
      "10\n",
      "11\n",
      "12\n",
      "13\n",
      "14\n",
      "15\n",
      "16\n",
      "17\n",
      "18\n",
      "19\n",
      "20\n",
      "21\n",
      "22\n",
      "X\n",
      "Y\n",
      "MT\n"
     ]
    },
    {
     "data": {
      "text/plain": [
       "[172878,\n",
       " 184241,\n",
       " 86578,\n",
       " 50933,\n",
       " 84275,\n",
       " 71419,\n",
       " 77690,\n",
       " 53699,\n",
       " 74384,\n",
       " 59665,\n",
       " 93838,\n",
       " 70102,\n",
       " 47456,\n",
       " 50839,\n",
       " 65360,\n",
       " 109678,\n",
       " 143403,\n",
       " 36458,\n",
       " 97886,\n",
       " 38425,\n",
       " 24534,\n",
       " 43878,\n",
       " 100408,\n",
       " 1953,\n",
       " 5688]"
      ]
     },
     "execution_count": 28,
     "metadata": {},
     "output_type": "execute_result"
    }
   ],
   "source": [
    "chrs = [str(i) for i in range(1, 23)]\n",
    "variants_chr_counts = df['Chromosome'].value_counts()\n",
    "chrs.extend(['X', 'Y', 'MT'])\n",
    "variants_by_chr = []\n",
    "for chr in chrs:\n",
    "    print(chr)\n",
    "    variants_by_chr.append(variants_chr_counts[chr])\n",
    "variants_by_chr"
   ]
  },
  {
   "cell_type": "code",
   "execution_count": 29,
   "metadata": {},
   "outputs": [
    {
     "data": {
      "image/png": "[encoded data removed]",
      "text/plain": [
       "<Figure size 1440x216 with 2 Axes>"
      ]
     },
     "metadata": {
      "needs_background": "light"
     },
     "output_type": "display_data"
    }
   ],
   "source": [
    "import matplotlib.pyplot as plt\n",
    "\n",
    "plt.figure(figsize=(20, 3))\n",
    "plt.subplot(121)\n",
    "plt.bar(pathogenicity_levels, variants_by_pathogenicity)\n",
    "plt.subplot(122)\n",
    "plt.bar(chrs, variants_by_chr)\n",
    "plt.savefig('../img/data_desc/raw_data_description.png')\n",
    "plt.show()"
   ]
  },
  {
   "cell_type": "code",
   "execution_count": null,
   "metadata": {},
   "outputs": [],
   "source": [
    "df['Type'].value_counts()"
   ]
  },
  {
   "cell_type": "code",
   "execution_count": null,
   "metadata": {},
   "outputs": [],
   "source": [
    "import pandas as pd\n",
    "\n",
    "file_path = r'D:\\data\\clinvar\\variant_summary.txt\\variant_summary.txt'\n",
    "df = pd.read_csv(file_path, delimiter='\\t')\n",
    "df = df[df['Type']=='single nucleotide variant']\n",
    "df = df[(df['ClinicalSignificance'] == 'Pathogenic') | (df['ClinicalSignificance'] == 'Benign')]\n",
    "df = df[df['Assembly'] == 'GRCh38']\n",
    "df = df[df['Chromosome']!='MT']\n",
    "df.to_csv('../data/variants.csv', index=False)"
   ]
  },
  {
   "cell_type": "code",
   "execution_count": null,
   "metadata": {},
   "outputs": [],
   "source": [
    "df['PhenotypeList'].value_counts()"
   ]
  },
  {
   "cell_type": "code",
   "execution_count": null,
   "metadata": {},
   "outputs": [],
   "source": [
    "df[['Chromosome', 'Start', 'Stop', 'ReferenceAllele', 'AlternateAllele', 'PositionVCF', 'ReferenceAlleleVCF', 'AlternateAlleleVCF']]"
   ]
  },
  {
   "cell_type": "markdown",
   "metadata": {},
   "source": [
    "获取突变位点周围序列"
   ]
  },
  {
   "cell_type": "code",
   "execution_count": null,
   "metadata": {},
   "outputs": [],
   "source": [
    "import pandas as pd\n",
    "\n",
    "# 取突变位点周围50bp的内容\n",
    "surrounding_len = 50\n",
    "df = pd.read_csv('../data/variants.csv')\n",
    "df['seq_101_ref'] = ''\n",
    "df['seq_101_alt'] = ''\n",
    "for chr, subset in df.groupby('Chromosome'):\n",
    "    print(chr)\n",
    "    with open(r'D:\\data\\ucsc\\hg38\\chr{}.txt'.format(chr)) as f:\n",
    "        seq = f.readline()\n",
    "        for index, variant in subset.iterrows():\n",
    "            point_index = int(variant['PositionVCF'])\n",
    "            # point_index = seq[point_index-1]\n",
    "            ref = variant['ReferenceAlleleVCF']\n",
    "            alt = variant['AlternateAlleleVCF']\n",
    "            left = seq[point_index-1-surrounding_len:point_index-1]\n",
    "            right = seq[point_index: point_index+50]\n",
    "            # print(point_index, ref, alt, seq[point_index-1], left, right)\n",
    "            if len(left)<50:\n",
    "                left = 'N' *(50-len(left)) + left\n",
    "            if len(right)<50:\n",
    "                right = right + 'N'*(50-len(right))\n",
    "            t1 = ''.join([left, ref, right])\n",
    "            t2 = ''.join([left, alt, right])\n",
    "            df.loc[index, 'seq_101_ref'] = t1.upper()\n",
    "            df.loc[index, 'seq_101_alt'] = t1.upper()"
   ]
  },
  {
   "cell_type": "code",
   "execution_count": null,
   "metadata": {},
   "outputs": [],
   "source": [
    "# df['label'] = 1 if (df['ClinicalSignificance'] == 'Pathogenic') else 0\n",
    "df['label'] = -1\n",
    "df['label'][df['ClinicalSignificance'] == 'Pathogenic'] = 1\n",
    "df['label'][df['ClinicalSignificance'] != 'Pathogenic'] = 0"
   ]
  },
  {
   "cell_type": "code",
   "execution_count": null,
   "metadata": {},
   "outputs": [],
   "source": [
    "df = df[df['ReferenceAlleleVCF'] != 'na']"
   ]
  },
  {
   "cell_type": "code",
   "execution_count": null,
   "metadata": {},
   "outputs": [],
   "source": [
    "df.to_csv('../data/variants_with_seq.csv', index=False)"
   ]
  },
  {
   "cell_type": "code",
   "execution_count": 30,
   "metadata": {},
   "outputs": [],
   "source": [
    "import pandas as pd\n",
    "\n",
    "df = pd.read_csv('../data/variants_with_seq.csv')"
   ]
  },
  {
   "cell_type": "code",
   "execution_count": 31,
   "metadata": {},
   "outputs": [
    {
     "name": "stdout",
     "output_type": "stream",
     "text": [
      "Benign\n",
      "Pathogenic\n"
     ]
    },
    {
     "data": {
      "text/plain": [
       "[155863, 51331]"
      ]
     },
     "execution_count": 31,
     "metadata": {},
     "output_type": "execute_result"
    }
   ],
   "source": [
    "pathogenicity_levels = ['Benign', 'Pathogenic']\n",
    "variants_by_pathogenicity = []\n",
    "for patho in pathogenicity_levels:\n",
    "    print(patho)\n",
    "    variants_by_pathogenicity.append(df['ClinicalSignificance'].value_counts()[patho])\n",
    "variants_by_pathogenicity"
   ]
  },
  {
   "cell_type": "code",
   "execution_count": 32,
   "metadata": {},
   "outputs": [
    {
     "data": {
      "text/plain": [
       "[17492,\n",
       " 16962,\n",
       " 11092,\n",
       " 7104,\n",
       " 10109,\n",
       " 9502,\n",
       " 9779,\n",
       " 6850,\n",
       " 9107,\n",
       " 8341,\n",
       " 11211,\n",
       " 10422,\n",
       " 4916,\n",
       " 6011,\n",
       " 7771,\n",
       " 9730,\n",
       " 13058,\n",
       " 4212,\n",
       " 9581,\n",
       " 4718,\n",
       " 2643,\n",
       " 4699,\n",
       " 11711,\n",
       " 173]"
      ]
     },
     "execution_count": 32,
     "metadata": {},
     "output_type": "execute_result"
    }
   ],
   "source": [
    "chrs = [str(i) for i in range(1, 23)]\n",
    "variants_chr_counts = df['Chromosome'].value_counts()\n",
    "chrs.extend(['X', 'Y'])\n",
    "variants_by_chr = []\n",
    "for chr in chrs:\n",
    "    variants_by_chr.append(variants_chr_counts[chr])\n",
    "variants_by_chr"
   ]
  },
  {
   "cell_type": "code",
   "execution_count": 33,
   "metadata": {},
   "outputs": [
    {
     "data": {
      "image/png": "[encoded data removed]",
      "text/plain": [
       "<Figure size 1440x216 with 2 Axes>"
      ]
     },
     "metadata": {
      "needs_background": "light"
     },
     "output_type": "display_data"
    }
   ],
   "source": [
    "import matplotlib.pyplot as plt\n",
    "\n",
    "plt.figure(figsize=(20, 3))\n",
    "plt.subplot(121)\n",
    "plt.bar(pathogenicity_levels, variants_by_pathogenicity)\n",
    "plt.subplot(122)\n",
    "plt.bar(chrs, variants_by_chr)\n",
    "plt.savefig('../img/data_desc/fliterd_data_description.png')\n",
    "plt.show()"
   ]
  },
  {
   "cell_type": "code",
   "execution_count": 34,
   "metadata": {},
   "outputs": [],
   "source": [
    "import pandas as pd\n",
    "\n",
    "df = pd.read_csv('../data/variants_with_seq.csv')"
   ]
  },
  {
   "cell_type": "code",
   "execution_count": 35,
   "metadata": {},
   "outputs": [],
   "source": [
    "df_positive = df[df['ClinicalSignificance'] == 'Pathogenic']\n",
    "df_negative = df[df['ClinicalSignificance'] == 'Benign']"
   ]
  },
  {
   "cell_type": "code",
   "execution_count": 47,
   "metadata": {},
   "outputs": [
    {
     "name": "stdout",
     "output_type": "stream",
     "text": [
      "(51331, 37) (155863, 37)\n"
     ]
    }
   ],
   "source": [
    "print(df_positive.shape, df_negative.shape)"
   ]
  },
  {
   "cell_type": "code",
   "execution_count": 40,
   "metadata": {},
   "outputs": [],
   "source": [
    "num_p = df_positive.shape[0]"
   ]
  },
  {
   "cell_type": "code",
   "execution_count": 41,
   "metadata": {},
   "outputs": [],
   "source": [
    "num_n = df_negative.shape[0]"
   ]
  },
  {
   "cell_type": "code",
   "execution_count": 42,
   "metadata": {},
   "outputs": [],
   "source": [
    "train_ratio = 0.7\n",
    "valid_ration = 0.2\n",
    "test_ration = 0.1"
   ]
  },
  {
   "cell_type": "code",
   "execution_count": 45,
   "metadata": {},
   "outputs": [],
   "source": [
    "df_positive_train = df_positive.iloc[:int(num_p*train_ratio)]\n",
    "df_positive_valid = df_positive.iloc[int(num_p*train_ratio):int(num_p*0.9)]\n",
    "df_positive_test = df_positive.iloc[int(num_p*0.9):]"
   ]
  },
  {
   "cell_type": "code",
   "execution_count": 46,
   "metadata": {},
   "outputs": [
    {
     "name": "stdout",
     "output_type": "stream",
     "text": [
      "(35931, 37) (10266, 37) (5134, 37)\n"
     ]
    }
   ],
   "source": [
    "print(df_positive_train.shape, df_positive_valid.shape, df_positive_test.shape)"
   ]
  },
  {
   "cell_type": "code",
   "execution_count": 48,
   "metadata": {},
   "outputs": [],
   "source": [
    "df_negative_train = df_negative.iloc[:int(num_n*train_ratio)]\n",
    "df_negative_valid = df_negative.iloc[int(num_n*train_ratio):int(num_n*0.9)]\n",
    "df_negative_test = df_negative.iloc[int(num_n*0.9):]"
   ]
  },
  {
   "cell_type": "code",
   "execution_count": 49,
   "metadata": {},
   "outputs": [
    {
     "name": "stdout",
     "output_type": "stream",
     "text": [
      "(109104, 37) (31172, 37) (15587, 37)\n"
     ]
    }
   ],
   "source": [
    "print(df_negative_train.shape, df_negative_valid.shape, df_negative_test.shape)"
   ]
  },
  {
   "cell_type": "code",
   "execution_count": 51,
   "metadata": {},
   "outputs": [],
   "source": [
    "df_train = pd.concat([df_positive_train, df_negative_train])\n",
    "df_valid = pd.concat([df_positive_valid, df_negative_valid])\n",
    "df_test = pd.concat([df_positive_test, df_negative_test])"
   ]
  },
  {
   "cell_type": "code",
   "execution_count": 52,
   "metadata": {},
   "outputs": [
    {
     "name": "stdout",
     "output_type": "stream",
     "text": [
      "(145035, 37) (41438, 37) (20721, 37)\n"
     ]
    }
   ],
   "source": [
    "print(df_train.shape, df_valid.shape, df_test.shape)"
   ]
  },
  {
   "cell_type": "code",
   "execution_count": null,
   "metadata": {},
   "outputs": [],
   "source": [
    "df_train.to_csv('../data/train.csv', index=False)\n",
    "df_valid.to_csv('../data/valid.csv', index=False)\n",
    "df_test.to_csv('../data/test.csv', index=False)"
   ]
  }
 ],
 "metadata": {
  "interpreter": {
   "hash": "2086ba30e1af7c12627fcdf6cbb18573b158f8bf8999ae420920dd1f548ca679"
  },
  "kernelspec": {
   "display_name": "Python 3.7.9 64-bit ('dl': virtualenv)",
   "language": "python",
   "name": "python3"
  },
  "language_info": {
   "codemirror_mode": {
    "name": "ipython",
    "version": 3
   },
   "file_extension": ".py",
   "mimetype": "text/x-python",
   "name": "python",
   "nbconvert_exporter": "python",
   "pygments_lexer": "ipython3",
   "version": "3.7.9"
  },
  "orig_nbformat": 4
 },
 "nbformat": 4,
 "nbformat_minor": 2
}
