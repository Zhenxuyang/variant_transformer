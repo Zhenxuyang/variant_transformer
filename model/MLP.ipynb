{
 "cells": [
  {
   "cell_type": "markdown",
   "metadata": {},
   "source": [
    "使用多层感知机分类"
   ]
  },
  {
   "cell_type": "code",
   "execution_count": null,
   "metadata": {},
   "outputs": [],
   "source": [
    "import torch\n",
    "from torch import nn"
   ]
  },
  {
   "cell_type": "code",
   "execution_count": null,
   "metadata": {},
   "outputs": [],
   "source": [
    "class MLPClassifier(nn.Module):\n",
    "\n",
    "    def __init__(self, seq_len, embedding_dim, output_dim) -> None:\n",
    "        super().__init__()\n",
    "        self.linear1 = nn.Linear(embedding_dim, 1)\n",
    "        self.relu = nn.ReLU()\n",
    "        self.linear2 = nn.Linear(seq_len, output_dim)\n",
    "        self.sigmoid = nn.Sigmoid()\n",
    "\n",
    "    def forward(self, x):\n",
    "        x = self.linear1(x)\n",
    "        x = self.relu(x)\n",
    "        x = self.linear2(x)\n",
    "        x = self.sigmoid(x)\n"
   ]
  }
 ],
 "metadata": {
  "interpreter": {
   "hash": "e666f852d02299f6e40a140a762369bacd9c31fa30dac75a672cee6077c10d69"
  },
  "kernelspec": {
   "display_name": "Python 3.9.7 64-bit ('variant_transformer_classifier': conda)",
   "language": "python",
   "name": "python3"
  },
  "language_info": {
   "name": "python",
   "version": "3.9.7"
  },
  "orig_nbformat": 4
 },
 "nbformat": 4,
 "nbformat_minor": 2
}
